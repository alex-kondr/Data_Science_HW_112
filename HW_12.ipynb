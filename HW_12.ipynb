{
  "nbformat": 4,
  "nbformat_minor": 0,
  "metadata": {
    "colab": {
      "provenance": [],
      "authorship_tag": "ABX9TyOLhpc0aXnUWVU2jh+sMMOl",
      "include_colab_link": true
    },
    "kernelspec": {
      "name": "python3",
      "display_name": "Python 3"
    },
    "language_info": {
      "name": "python"
    }
  },
  "cells": [
    {
      "cell_type": "markdown",
      "metadata": {
        "id": "view-in-github",
        "colab_type": "text"
      },
      "source": [
        "<a href=\"https://colab.research.google.com/github/alex-kondr/Data_Science_HW_112/blob/main/HW_12.ipynb\" target=\"_parent\"><img src=\"https://colab.research.google.com/assets/colab-badge.svg\" alt=\"Open In Colab\"/></a>"
      ]
    },
    {
      "cell_type": "code",
      "execution_count": 22,
      "metadata": {
        "id": "hWZeSUmHvLIv"
      },
      "outputs": [],
      "source": [
        "import spacy\n",
        "import nltk\n",
        "from nltk.corpus import stopwords\n",
        "from nltk.tokenize import word_tokenize, sent_tokenize\n",
        "from heapq import nlargest"
      ]
    },
    {
      "cell_type": "code",
      "source": [
        "nlp = spacy.load('en_core_web_sm')\n",
        "nltk.download('punkt')\n",
        "nltk.download('stopwords')"
      ],
      "metadata": {
        "colab": {
          "base_uri": "https://localhost:8080/"
        },
        "id": "bAShFM6pvU13",
        "outputId": "1551ee40-6ec2-47ff-cdc7-ab334ffee93e"
      },
      "execution_count": 7,
      "outputs": [
        {
          "output_type": "stream",
          "name": "stderr",
          "text": [
            "[nltk_data] Downloading package punkt to /root/nltk_data...\n",
            "[nltk_data]   Package punkt is already up-to-date!\n",
            "[nltk_data] Downloading package stopwords to /root/nltk_data...\n",
            "[nltk_data]   Unzipping corpora/stopwords.zip.\n"
          ]
        },
        {
          "output_type": "execute_result",
          "data": {
            "text/plain": [
              "True"
            ]
          },
          "metadata": {},
          "execution_count": 7
        }
      ]
    },
    {
      "cell_type": "code",
      "source": [
        "# Текст для обробки\n",
        "text = \"This is an example sentence for tokenization and lemmatization.\"\n",
        "\n",
        "# Токенізація\n",
        "doc = nlp(text)\n",
        "tokens1 = [token.text for token in doc]\n",
        "print(tokens1)"
      ],
      "metadata": {
        "colab": {
          "base_uri": "https://localhost:8080/"
        },
        "id": "d0_7uhDLvYhQ",
        "outputId": "3b9484c8-2e65-4cfc-972a-3af3508c8809"
      },
      "execution_count": 10,
      "outputs": [
        {
          "output_type": "stream",
          "name": "stdout",
          "text": [
            "['This', 'is', 'an', 'example', 'sentence', 'for', 'tokenization', 'and', 'lemmatization', '.']\n"
          ]
        }
      ]
    },
    {
      "cell_type": "code",
      "source": [
        "tokens2 = word_tokenize(text)\n",
        "sentences = sent_tokenize(text)\n",
        "stop_words = set(stopwords.words('english'))"
      ],
      "metadata": {
        "id": "q2Oaf3Pqvfui"
      },
      "execution_count": 11,
      "outputs": []
    },
    {
      "cell_type": "code",
      "source": [
        "print(tokens2)"
      ],
      "metadata": {
        "colab": {
          "base_uri": "https://localhost:8080/"
        },
        "id": "SSW5QZ5ewkkh",
        "outputId": "20d6165d-90b6-49fb-b55a-ffddf9c83cd6"
      },
      "execution_count": 12,
      "outputs": [
        {
          "output_type": "stream",
          "name": "stdout",
          "text": [
            "['This', 'is', 'an', 'example', 'sentence', 'for', 'tokenization', 'and', 'lemmatization', '.']\n"
          ]
        }
      ]
    },
    {
      "cell_type": "code",
      "source": [
        "print(sentences)"
      ],
      "metadata": {
        "colab": {
          "base_uri": "https://localhost:8080/"
        },
        "id": "q_JbRyodwy8p",
        "outputId": "1a02f630-d59e-4844-a4bc-8ddcd6be667d"
      },
      "execution_count": 13,
      "outputs": [
        {
          "output_type": "stream",
          "name": "stdout",
          "text": [
            "['This is an example sentence for tokenization and lemmatization.']\n"
          ]
        }
      ]
    },
    {
      "cell_type": "code",
      "source": [
        "print(stop_words)"
      ],
      "metadata": {
        "colab": {
          "base_uri": "https://localhost:8080/"
        },
        "id": "LIU199H2w20-",
        "outputId": "d78e96fb-5adb-4554-a668-22aefb47de58"
      },
      "execution_count": 14,
      "outputs": [
        {
          "output_type": "stream",
          "name": "stdout",
          "text": [
            "{'against', \"it's\", 'herself', 'themselves', 'am', 'are', 'been', 'can', 'her', 'couldn', 'itself', 'if', 'over', 'it', 'as', 'hasn', \"you'd\", 'yours', 'does', 'then', 'each', 'what', 'under', 're', 'because', 'd', \"don't\", 'were', 'had', 'their', 'here', \"haven't\", 'that', \"wasn't\", 'hadn', \"needn't\", \"won't\", 'its', \"isn't\", 'theirs', 'you', 'being', 'be', 'same', 'himself', 'did', 'to', \"you'll\", \"that'll\", 'we', 'was', 'in', 'll', 'me', 'both', 'o', 'more', 'they', 'below', 'down', 'm', 'with', \"doesn't\", \"wouldn't\", 'them', 'on', 't', 'there', 'while', \"weren't\", 'above', 'through', 'do', 've', \"you're\", 'nor', 'should', 'into', 'from', \"she's\", \"hadn't\", 'after', 'the', 'but', 'ma', 'ain', 'so', 'ours', 'own', 'about', 'before', 'hers', 'shouldn', 'weren', 'your', 'off', 'once', 'by', 'he', 'don', 'when', 'whom', 'a', 'who', 'of', 'further', 'and', 'mustn', 'have', \"aren't\", 'few', 'at', 'any', \"mustn't\", 'won', 'ourselves', 'now', 'y', 'didn', 'too', 'his', 'our', 'needn', \"should've\", 'where', 'how', 'not', 'or', 'isn', 'will', 's', 'shan', 'very', 'myself', 'between', \"shouldn't\", 'yourselves', 'again', 'i', 'yourself', 'which', 'out', 'doesn', 'haven', 'doing', 'some', 'only', 'she', \"mightn't\", 'up', 'wasn', 'mightn', \"hasn't\", 'such', 'just', 'wouldn', 'all', \"you've\", 'aren', 'those', \"didn't\", 'having', 'other', 'most', 'an', 'than', \"shan't\", 'is', 'this', 'him', 'no', 'until', 'for', 'these', 'during', 'why', 'has', 'my', \"couldn't\"}\n"
          ]
        }
      ]
    },
    {
      "cell_type": "code",
      "source": [
        "punctuation = ['\\n', '.', ',', '(', ')', '\"', '”', '“', ';', '-']"
      ],
      "metadata": {
        "id": "a1PyUsoLxmZQ"
      },
      "execution_count": 42,
      "outputs": []
    },
    {
      "cell_type": "code",
      "source": [
        "word_frequencies = {}\n",
        "for word in doc:\n",
        "  if word.text.lower() not in stop_words:\n",
        "    if word.text.lower() not in punctuation:\n",
        "      if word.text not in word_frequencies.keys():\n",
        "        word_frequencies[word.text] = 1\n",
        "      else:\n",
        "        word_frequencies[word.text] += 1"
      ],
      "metadata": {
        "id": "cQRMzcNOxqG5"
      },
      "execution_count": 20,
      "outputs": []
    },
    {
      "cell_type": "code",
      "source": [
        "word_frequencies"
      ],
      "metadata": {
        "colab": {
          "base_uri": "https://localhost:8080/"
        },
        "id": "Jqkw9SwUx50s",
        "outputId": "48eccfcb-9961-4328-ad64-78f87b7d8831"
      },
      "execution_count": 21,
      "outputs": [
        {
          "output_type": "execute_result",
          "data": {
            "text/plain": [
              "{'example': 1, 'sentence': 1, 'tokenization': 1, 'lemmatization': 1}"
            ]
          },
          "metadata": {},
          "execution_count": 21
        }
      ]
    },
    {
      "cell_type": "code",
      "source": [
        "select_length = int(len(sentences))\n",
        "summary = nlargest(select_length, word_frequencies, key = word_frequencies.get)\n",
        "summary"
      ],
      "metadata": {
        "colab": {
          "base_uri": "https://localhost:8080/"
        },
        "id": "QpqNzoFWy1Y1",
        "outputId": "cf407dbb-2929-4d1c-eacd-6e8b426c51f2"
      },
      "execution_count": 25,
      "outputs": [
        {
          "output_type": "execute_result",
          "data": {
            "text/plain": [
              "['example']"
            ]
          },
          "metadata": {},
          "execution_count": 25
        }
      ]
    },
    {
      "cell_type": "markdown",
      "source": [],
      "metadata": {
        "id": "Pok9Zeqv2P3S"
      }
    },
    {
      "cell_type": "code",
      "source": [
        "text = 'The Orbiter Discovery, OV-103, is considered eligible for listing in the National Register of Historic Places (NRHP) in the context of the U.S. Space Shuttle Program (1969-2011) under Criterion A in the areas of Space Exploration and Transportation and under Criterion C in the area of Engineering. Because it has achieved significance within the past fifty years, Criteria Consideration G applies. Under Criterion A, Discovery is significant as the oldest of the three extant orbiter vehicles constructed for the Space Shuttle Program (SSP), the longest running American space program to date; she was the third of five orbiters built by NASA. Unlike the Mercury, Gemini, and Apollo programs, the SSP’s emphasis was on cost effectiveness and reusability, and eventually the construction of a space station. Including her maiden voyage (launched August 30, 1984), Discovery flew to space thirty-nine times, more than any of the other four orbiters; she was also the first orbiter to fly twenty missions. She had the honor of being chosen as the Return to Flight vehicle after both the Challenger and Columbia accidents. Discovery was the first shuttle to fly with the redesigned SRBs, a result of the Challenger accident, and the first shuttle to fly with the Phase II and Block I SSME. Discovery also carried the Hubble Space Telescope to orbit and performed two of the five servicing missions to the observatory. She flew the first and last dedicated Department of Defense (DoD) missions, as well as the first unclassified defense-related mission. In addition, Discovery was vital to the construction of the International Space Station (ISS); she flew thirteen of the thirty-seven total missions flown to the station by a U.S. Space Shuttle. She was the first orbiter to dock to the ISS, and the first to perform an exchange of a resident crew. Under Criterion C, Discovery is significant as a feat of engineering. According to Wayne Hale, a flight director from Johnson Space Center, the Space Shuttle orbiter represents a “huge technological leap from expendable rockets and capsules to a reusable, winged, hypersonic, cargo-carrying spacecraft.” Although her base structure followed a conventional aircraft design, she used advanced materials that both minimized her weight for cargo-carrying purposes and featured low thermal expansion ratios, which provided a stable base for her Thermal Protection System (TPS) materials. The Space Shuttle orbiter also featured the first reusable TPS; all previous spaceflight vehicles had a single-use, ablative heat shield. Other notable engineering achievements of the orbiter included the first reusable orbital propulsion system, and the first two-fault-tolerant Integrated Avionics System. As Hale stated, the Space Shuttle remains “the largest, fastest, winged hypersonic aircraft in history,” having regularly flown at twenty-five times the speed of sound.'"
      ],
      "metadata": {
        "id": "fVKM7XNW2QjA"
      },
      "execution_count": 26,
      "outputs": []
    },
    {
      "cell_type": "code",
      "source": [
        "doc = nlp(text)\n",
        "tokens1 = [token.text for token in doc]"
      ],
      "metadata": {
        "id": "Hx7T7nqm2Wyw"
      },
      "execution_count": 27,
      "outputs": []
    },
    {
      "cell_type": "code",
      "source": [
        "print(tokens1)"
      ],
      "metadata": {
        "colab": {
          "base_uri": "https://localhost:8080/"
        },
        "id": "oF3hTXax2gf4",
        "outputId": "62041b9e-249b-4d92-ad87-d1efc6173593"
      },
      "execution_count": 28,
      "outputs": [
        {
          "output_type": "stream",
          "name": "stdout",
          "text": [
            "['The', 'Orbiter', 'Discovery', ',', 'OV-103', ',', 'is', 'considered', 'eligible', 'for', 'listing', 'in', 'the', 'National', 'Register', 'of', 'Historic', 'Places', '(', 'NRHP', ')', 'in', 'the', 'context', 'of', 'the', 'U.S.', 'Space', 'Shuttle', 'Program', '(', '1969', '-', '2011', ')', 'under', 'Criterion', 'A', 'in', 'the', 'areas', 'of', 'Space', 'Exploration', 'and', 'Transportation', 'and', 'under', 'Criterion', 'C', 'in', 'the', 'area', 'of', 'Engineering', '.', 'Because', 'it', 'has', 'achieved', 'significance', 'within', 'the', 'past', 'fifty', 'years', ',', 'Criteria', 'Consideration', 'G', 'applies', '.', 'Under', 'Criterion', 'A', ',', 'Discovery', 'is', 'significant', 'as', 'the', 'oldest', 'of', 'the', 'three', 'extant', 'orbiter', 'vehicles', 'constructed', 'for', 'the', 'Space', 'Shuttle', 'Program', '(', 'SSP', ')', ',', 'the', 'longest', 'running', 'American', 'space', 'program', 'to', 'date', ';', 'she', 'was', 'the', 'third', 'of', 'five', 'orbiters', 'built', 'by', 'NASA', '.', 'Unlike', 'the', 'Mercury', ',', 'Gemini', ',', 'and', 'Apollo', 'programs', ',', 'the', 'SSP', '’s', 'emphasis', 'was', 'on', 'cost', 'effectiveness', 'and', 'reusability', ',', 'and', 'eventually', 'the', 'construction', 'of', 'a', 'space', 'station', '.', 'Including', 'her', 'maiden', 'voyage', '(', 'launched', 'August', '30', ',', '1984', ')', ',', 'Discovery', 'flew', 'to', 'space', 'thirty', '-', 'nine', 'times', ',', 'more', 'than', 'any', 'of', 'the', 'other', 'four', 'orbiters', ';', 'she', 'was', 'also', 'the', 'first', 'orbiter', 'to', 'fly', 'twenty', 'missions', '.', 'She', 'had', 'the', 'honor', 'of', 'being', 'chosen', 'as', 'the', 'Return', 'to', 'Flight', 'vehicle', 'after', 'both', 'the', 'Challenger', 'and', 'Columbia', 'accidents', '.', 'Discovery', 'was', 'the', 'first', 'shuttle', 'to', 'fly', 'with', 'the', 'redesigned', 'SRBs', ',', 'a', 'result', 'of', 'the', 'Challenger', 'accident', ',', 'and', 'the', 'first', 'shuttle', 'to', 'fly', 'with', 'the', 'Phase', 'II', 'and', 'Block', 'I', 'SSME', '.', 'Discovery', 'also', 'carried', 'the', 'Hubble', 'Space', 'Telescope', 'to', 'orbit', 'and', 'performed', 'two', 'of', 'the', 'five', 'servicing', 'missions', 'to', 'the', 'observatory', '.', 'She', 'flew', 'the', 'first', 'and', 'last', 'dedicated', 'Department', 'of', 'Defense', '(', 'DoD', ')', 'missions', ',', 'as', 'well', 'as', 'the', 'first', 'unclassified', 'defense', '-', 'related', 'mission', '.', 'In', 'addition', ',', 'Discovery', 'was', 'vital', 'to', 'the', 'construction', 'of', 'the', 'International', 'Space', 'Station', '(', 'ISS', ')', ';', 'she', 'flew', 'thirteen', 'of', 'the', 'thirty', '-', 'seven', 'total', 'missions', 'flown', 'to', 'the', 'station', 'by', 'a', 'U.S.', 'Space', 'Shuttle', '.', 'She', 'was', 'the', 'first', 'orbiter', 'to', 'dock', 'to', 'the', 'ISS', ',', 'and', 'the', 'first', 'to', 'perform', 'an', 'exchange', 'of', 'a', 'resident', 'crew', '.', 'Under', 'Criterion', 'C', ',', 'Discovery', 'is', 'significant', 'as', 'a', 'feat', 'of', 'engineering', '.', 'According', 'to', 'Wayne', 'Hale', ',', 'a', 'flight', 'director', 'from', 'Johnson', 'Space', 'Center', ',', 'the', 'Space', 'Shuttle', 'orbiter', 'represents', 'a', '“', 'huge', 'technological', 'leap', 'from', 'expendable', 'rockets', 'and', 'capsules', 'to', 'a', 'reusable', ',', 'winged', ',', 'hypersonic', ',', 'cargo', '-', 'carrying', 'spacecraft', '.', '”', 'Although', 'her', 'base', 'structure', 'followed', 'a', 'conventional', 'aircraft', 'design', ',', 'she', 'used', 'advanced', 'materials', 'that', 'both', 'minimized', 'her', 'weight', 'for', 'cargo', '-', 'carrying', 'purposes', 'and', 'featured', 'low', 'thermal', 'expansion', 'ratios', ',', 'which', 'provided', 'a', 'stable', 'base', 'for', 'her', 'Thermal', 'Protection', 'System', '(', 'TPS', ')', 'materials', '.', 'The', 'Space', 'Shuttle', 'orbiter', 'also', 'featured', 'the', 'first', 'reusable', 'TPS', ';', 'all', 'previous', 'spaceflight', 'vehicles', 'had', 'a', 'single', '-', 'use', ',', 'ablative', 'heat', 'shield', '.', 'Other', 'notable', 'engineering', 'achievements', 'of', 'the', 'orbiter', 'included', 'the', 'first', 'reusable', 'orbital', 'propulsion', 'system', ',', 'and', 'the', 'first', 'two', '-', 'fault', '-', 'tolerant', 'Integrated', 'Avionics', 'System', '.', 'As', 'Hale', 'stated', ',', 'the', 'Space', 'Shuttle', 'remains', '“', 'the', 'largest', ',', 'fastest', ',', 'winged', 'hypersonic', 'aircraft', 'in', 'history', ',', '”', 'having', 'regularly', 'flown', 'at', 'twenty', '-', 'five', 'times', 'the', 'speed', 'of', 'sound', '.']\n"
          ]
        }
      ]
    },
    {
      "cell_type": "code",
      "source": [
        "word_frequencies = {}\n",
        "for word in doc:\n",
        "  if word.text.lower() not in stop_words:\n",
        "    if word.text.lower() not in punctuation:\n",
        "      if word.text not in word_frequencies.keys():\n",
        "        word_frequencies[word.text] = 1\n",
        "      else:\n",
        "        word_frequencies[word.text] += 1"
      ],
      "metadata": {
        "id": "qt6i1fdk2m3a"
      },
      "execution_count": 43,
      "outputs": []
    },
    {
      "cell_type": "code",
      "source": [
        "select_length = 10\n",
        "summary = nlargest(select_length, word_frequencies, key = word_frequencies.get)\n",
        "summary"
      ],
      "metadata": {
        "colab": {
          "base_uri": "https://localhost:8080/"
        },
        "id": "_slKKUQy2uMn",
        "outputId": "f4df01a1-abb4-4a16-8968-a6327735cf66"
      },
      "execution_count": 50,
      "outputs": [
        {
          "output_type": "execute_result",
          "data": {
            "text/plain": [
              "['Space',\n",
              " 'first',\n",
              " 'Discovery',\n",
              " 'Shuttle',\n",
              " 'orbiter',\n",
              " 'Criterion',\n",
              " 'missions',\n",
              " 'space',\n",
              " 'five',\n",
              " 'flew']"
            ]
          },
          "metadata": {},
          "execution_count": 50
        }
      ]
    },
    {
      "cell_type": "markdown",
      "source": [
        "Система вибрала 10 слів, які характеризують вхідне речення."
      ],
      "metadata": {
        "id": "NqXCw-Mc8BPF"
      }
    }
  ]
}